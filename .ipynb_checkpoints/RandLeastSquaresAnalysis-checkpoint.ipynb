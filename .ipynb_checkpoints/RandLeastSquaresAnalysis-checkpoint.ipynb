{
 "cells": [
  {
   "cell_type": "markdown",
   "id": "af8a42ea-8ab4-4fe7-a945-10043f9f02bf",
   "metadata": {},
   "source": [
    "# RandLeastSquares Algorithm"
   ]
  },
  {
   "cell_type": "code",
   "execution_count": 1,
   "id": "7ca239fd-8346-418f-a441-a3356f956ded",
   "metadata": {},
   "outputs": [],
   "source": [
    "# imports\n",
    "import numpy as np\n",
    "from scipy.linalg import hadamard\n",
    "from tqdm import tqdm"
   ]
  },
  {
   "cell_type": "code",
   "execution_count": 2,
   "id": "3272c794-2789-407e-ad09-a342cd7cba35",
   "metadata": {},
   "outputs": [],
   "source": [
    "def randLeastSquares(A: np.matrix, b: np.array, epsilon: float, mode=\"linear\"):\n",
    "    \"\"\"\n",
    "    Solves the least squares problem using a randomized algorithm.\n",
    "\n",
    "    Parameters:\n",
    "    A (np.matrix): The input matrix of shape (n, d).\n",
    "    b (np.array): The target vector of shape (n).\n",
    "    epsilon (float): The error tolerance for the approximation.\n",
    "    mode (str): \"log\" or \"linear\" to determine how r is set.\n",
    "\n",
    "    Returns:\n",
    "    np.array: The solution vector of shape (d).\n",
    "    \"\"\"\n",
    "    n, d = A.shape\n",
    "\n",
    "    # Ensure n is a power of 2 by padding with zeros if necessary\n",
    "    if not (n > 0 and ((n & (n - 1)) == 0)):\n",
    "        next_power_of_2 = 2 ** int(np.ceil(np.log2(n)))\n",
    "        A = np.pad(A, ((0, next_power_of_2 - n), (0, 0)), mode='constant')\n",
    "        b = np.pad(b, (0, next_power_of_2 - n), mode='constant')\n",
    "        n = next_power_of_2\n",
    "\n",
    "    # Determine r based on the mode\n",
    "    if mode == \"log\":\n",
    "        r = max(\n",
    "            48**2 * d * np.log(40 * n * d) * np.log(100**2 * d * np.log(40 * n * d)),\n",
    "            (40 * d * np.log(40 * n * d)) / epsilon\n",
    "        )\n",
    "        r = int(np.ceil(r))\n",
    "    elif mode == \"linear\":\n",
    "        r = max(48**2 * d, (40 * d) / epsilon)\n",
    "        r = int(np.ceil(r))\n",
    "    else:\n",
    "        raise ValueError(\"Invalid mode. Choose 'log' or 'linear'.\")\n",
    "\n",
    "    # Create sampling-and-rescaling matrix S\n",
    "    S = np.zeros((r, n))\n",
    "    for t in range(r):\n",
    "        i_t = np.random.choice(range(n))\n",
    "        S[t, i_t] = np.sqrt(n / r)\n",
    "\n",
    "    # Generate Hadamard and diagonal matrices\n",
    "    H = hadamard(n) / np.sqrt(n)\n",
    "    D_diags = np.random.choice([-1, 1], size=n)\n",
    "    D = np.diag(D_diags)\n",
    "\n",
    "    # Compute HDA and HDb\n",
    "    HDA = H @ D @ A\n",
    "    HDb = H @ D @ b\n",
    "\n",
    "    # Compute the solution vector x_opt\n",
    "    x_opt = np.linalg.pinv(S @ HDA) @ (S @ HDb)\n",
    "    \n",
    "    return x_opt"
   ]
  },
  {
   "cell_type": "code",
   "execution_count": 3,
   "id": "a514b35b-915b-4ee4-9964-c1faa5f607c0",
   "metadata": {},
   "outputs": [],
   "source": [
    "def relative_err(x_opt, x_true):\n",
    "    return np.linalg.norm(x_opt - x_true) / np.linalg.norm(x_opt)"
   ]
  },
  {
   "cell_type": "code",
   "execution_count": 4,
   "id": "5b0d9801-2972-4d38-b51d-07d2249ea4c9",
   "metadata": {},
   "outputs": [
    {
     "name": "stderr",
     "output_type": "stream",
     "text": [
      "100%|█████████████████████████████████████████████| 5/5 [00:05<00:00,  1.12s/it]"
     ]
    },
    {
     "name": "stdout",
     "output_type": "stream",
     "text": [
      "Average error over 5 tests: 0.023277969453142748\n"
     ]
    },
    {
     "name": "stderr",
     "output_type": "stream",
     "text": [
      "\n"
     ]
    }
   ],
   "source": [
    "# Parameters\n",
    "num_tests = 5\n",
    "matrix_size = (2**5, 8)\n",
    "epsilon = 0.01\n",
    "\n",
    "# Run multiple tests\n",
    "err = []\n",
    "A = np.random.randn(*matrix_size)\n",
    "b = np.random.randn(matrix_size[0])\n",
    "x_true = np.linalg.lstsq(A, b, rcond=None)[0]\n",
    "for _ in tqdm(range(num_tests)):\n",
    "    \n",
    "    \n",
    "    x_opt = randLeastSquares(A, b, epsilon)\n",
    "    # print(x_opt)\n",
    "    # print(x_true)\n",
    "    \n",
    "    acc = relative_err(x_opt, x_true)\n",
    "    err.append(acc)\n",
    "\n",
    "# Compute average accuracy\n",
    "average_err = np.mean(err)\n",
    "print(\"Average error over {} tests: {}\".format(num_tests, average_err))"
   ]
  },
  {
   "cell_type": "markdown",
   "id": "f75ec4b2-5853-4bc3-ac55-81fb851aed42",
   "metadata": {},
   "source": [
    "# Analysis"
   ]
  },
  {
   "cell_type": "code",
   "execution_count": 5,
   "id": "4675e3a8-bbb9-4480-9645-8229e073d55b",
   "metadata": {},
   "outputs": [],
   "source": [
    "# imports\n",
    "import time\n",
    "import matplotlib.pyplot as plt"
   ]
  },
  {
   "cell_type": "code",
   "execution_count": 6,
   "id": "0927fccb-dab5-40b6-8258-b8605b5bd039",
   "metadata": {},
   "outputs": [
    {
     "name": "stderr",
     "output_type": "stream",
     "text": [
      "Processing epsilons:   0%|                                | 0/3 [00:00<?, ?it/s]\n",
      "Matrix sizes for epsilon=0.1:   0%|                       | 0/6 [00:00<?, ?it/s]\u001b[A\n",
      "Matrix sizes for epsilon=0.1:  17%|██▌            | 1/6 [00:00<00:02,  1.80it/s]\u001b[A\n",
      "Matrix sizes for epsilon=0.1:  33%|█████          | 2/6 [00:01<00:02,  1.69it/s]\u001b[A\n",
      "Matrix sizes for epsilon=0.1:  50%|███████▌       | 3/6 [00:01<00:02,  1.49it/s]\u001b[A\n",
      "Matrix sizes for epsilon=0.1:  67%|██████████     | 4/6 [00:02<00:01,  1.27it/s]\u001b[A\n",
      "Matrix sizes for epsilon=0.1:  83%|████████████▌  | 5/6 [00:04<00:01,  1.08s/it]\u001b[A\n",
      "Matrix sizes for epsilon=0.1: 100%|███████████████| 6/6 [00:07<00:00,  1.63s/it]\u001b[A\n",
      "Processing epsilons:  33%|████████                | 1/3 [00:07<00:14,  7.22s/it]\u001b[A\n",
      "Matrix sizes for epsilon=0.01:   0%|                      | 0/6 [00:00<?, ?it/s]\u001b[A\n",
      "Matrix sizes for epsilon=0.01:  17%|██▎           | 1/6 [00:01<00:05,  1.00s/it]\u001b[A\n",
      "Matrix sizes for epsilon=0.01:  33%|████▋         | 2/6 [00:02<00:04,  1.02s/it]\u001b[A\n",
      "Matrix sizes for epsilon=0.01:  50%|███████       | 3/6 [00:03<00:03,  1.14s/it]\u001b[A\n",
      "Matrix sizes for epsilon=0.01:  67%|█████████▎    | 4/6 [00:05<00:02,  1.40s/it]\u001b[A\n",
      "Matrix sizes for epsilon=0.01:  83%|███████████▋  | 5/6 [00:08<00:02,  2.06s/it]\u001b[A\n",
      "Matrix sizes for epsilon=0.01: 100%|██████████████| 6/6 [00:13<00:00,  2.99s/it]\u001b[A\n",
      "Processing epsilons:  67%|████████████████        | 2/3 [00:20<00:10, 10.70s/it]\u001b[A\n",
      "Matrix sizes for epsilon=0.001:   0%|                     | 0/6 [00:00<?, ?it/s]\u001b[A\n",
      "Matrix sizes for epsilon=0.001:  17%|██▏          | 1/6 [00:10<00:50, 10.09s/it]\u001b[A\n",
      "Matrix sizes for epsilon=0.001:  33%|████▎        | 2/6 [00:21<00:42, 10.64s/it]\u001b[A\n",
      "Matrix sizes for epsilon=0.001:  50%|██████▌      | 3/6 [00:34<00:35, 11.74s/it]\u001b[A\n",
      "Matrix sizes for epsilon=0.001:  67%|████████▋    | 4/6 [00:49<00:26, 13.32s/it]\u001b[A\n",
      "Matrix sizes for epsilon=0.001:  83%|██████████▊  | 5/6 [01:15<00:17, 17.78s/it]\u001b[A\n",
      "Matrix sizes for epsilon=0.001: 100%|█████████████| 6/6 [02:00<00:00, 26.95s/it]\u001b[A\n",
      "Processing epsilons: 100%|████████████████████████| 3/3 [02:20<00:00, 46.91s/it]\u001b[A\n"
     ]
    },
    {
     "data": {
      "image/png": "[encoded data removed]",
      "text/plain": [
       "<Figure size 640x480 with 1 Axes>"
      ]
     },
     "metadata": {},
     "output_type": "display_data"
    }
   ],
   "source": [
    "from tqdm import tqdm\n",
    "import numpy as np\n",
    "import time\n",
    "import matplotlib.pyplot as plt\n",
    "\n",
    "# Matrix sizes and error tolerances\n",
    "matrix_sizes = [2**i for i in range(5, 11)]  # Sizes: 32, 64, ..., 1024\n",
    "epsilons = [0.1, 0.01, 0.001]  # Different error tolerances\n",
    "\n",
    "run_times = []\n",
    "\n",
    "# Measure run-time for each matrix size and epsilon with tqdm progress bars\n",
    "for epsilon in tqdm(epsilons, desc=\"Processing epsilons\"):\n",
    "    times = []\n",
    "    for size in tqdm(matrix_sizes, desc=f\"Matrix sizes for epsilon={epsilon}\", leave=False):\n",
    "        A = np.random.randn(size, 8)  # Fix d=8 for simplicity\n",
    "        b = np.random.randn(size)\n",
    "        start_time = time.time()\n",
    "        x_opt = randLeastSquares(A, b, epsilon)\n",
    "        end_time = time.time()\n",
    "        times.append(end_time - start_time)\n",
    "    run_times.append(times)\n",
    "\n",
    "# Plot results\n",
    "for i, epsilon in enumerate(epsilons):\n",
    "    plt.plot(matrix_sizes, run_times[i], label=f\"Epsilon={epsilon}\")\n",
    "\n",
    "plt.xlabel(\"Matrix Size (n)\")\n",
    "plt.ylabel(\"Run-Time (seconds)\")\n",
    "plt.title(\"Run-Time vs Matrix Size\")\n",
    "plt.legend()\n",
    "plt.grid()\n",
    "plt.show()\n"
   ]
  },
  {
   "cell_type": "code",
   "execution_count": 7,
   "id": "ed810ef5-de43-4118-85a1-7f0b27c1d3a0",
   "metadata": {},
   "outputs": [
    {
     "name": "stdout",
     "output_type": "stream",
     "text": [
      "Testing for epsilon=0.1\n"
     ]
    },
    {
     "name": "stderr",
     "output_type": "stream",
     "text": [
      "Epsilon=0.1: 100%|████████████████████████████████| 5/5 [00:14<00:00,  2.96s/it]\n"
     ]
    },
    {
     "name": "stdout",
     "output_type": "stream",
     "text": [
      "Testing for epsilon=0.01\n"
     ]
    },
    {
     "name": "stderr",
     "output_type": "stream",
     "text": [
      "Epsilon=0.01: 100%|███████████████████████████████| 5/5 [00:24<00:00,  4.93s/it]\n"
     ]
    },
    {
     "name": "stdout",
     "output_type": "stream",
     "text": [
      "Testing for epsilon=0.001\n"
     ]
    },
    {
     "name": "stderr",
     "output_type": "stream",
     "text": [
      "Epsilon=0.001: 100%|██████████████████████████████| 5/5 [03:49<00:00, 45.89s/it]\n"
     ]
    },
    {
     "data": {
      "image/png": "[encoded data removed]",
      "text/plain": [
       "<Figure size 640x480 with 1 Axes>"
      ]
     },
     "metadata": {},
     "output_type": "display_data"
    }
   ],
   "source": [
    "from tqdm import tqdm\n",
    "\n",
    "accuracies = []\n",
    "\n",
    "# Measure accuracy for each epsilon\n",
    "for epsilon in epsilons:\n",
    "    err = []\n",
    "    print(f\"Testing for epsilon={epsilon}\")  # Optional: Display current epsilon\n",
    "    for _ in tqdm(range(num_tests), desc=f\"Epsilon={epsilon}\"):  # Add tqdm here\n",
    "        x_opt = randLeastSquares(A, b, epsilon)\n",
    "        acc = relative_err(x_opt, x_true)\n",
    "        err.append(acc)\n",
    "    accuracies.append(np.mean(err))\n",
    "\n",
    "# Plot results\n",
    "plt.plot(epsilons, accuracies, marker='o')\n",
    "plt.xlabel(\"Epsilon\")\n",
    "plt.ylabel(\"Relative Error\")\n",
    "plt.title(\"Accuracy vs Epsilon\")\n",
    "plt.xscale('log')  # Log scale for epsilon\n",
    "plt.grid()\n",
    "plt.show()\n"
   ]
  },
  {
   "cell_type": "code",
   "execution_count": 9,
   "id": "5552968f-ce98-41f8-8b00-c3b5c7075b6f",
   "metadata": {},
   "outputs": [
    {
     "ename": "MemoryError",
     "evalue": "Unable to allocate 31.0 GiB for an array with shape (4063934, 1024) and data type float64",
     "output_type": "error",
     "traceback": [
      "\u001b[0;31m---------------------------------------------------------------------------\u001b[0m",
      "\u001b[0;31mMemoryError\u001b[0m                               Traceback (most recent call last)",
      "Cell \u001b[0;32mIn[9], line 11\u001b[0m\n\u001b[1;32m      9\u001b[0m \u001b[38;5;28;01mfor\u001b[39;00m _ \u001b[38;5;129;01min\u001b[39;00m \u001b[38;5;28mrange\u001b[39m(num_tests):\n\u001b[1;32m     10\u001b[0m     start_time \u001b[38;5;241m=\u001b[39m time\u001b[38;5;241m.\u001b[39mtime()\n\u001b[0;32m---> 11\u001b[0m     x_opt \u001b[38;5;241m=\u001b[39m \u001b[43mrandLeastSquares\u001b[49m\u001b[43m(\u001b[49m\u001b[43mA\u001b[49m\u001b[43m,\u001b[49m\u001b[43m \u001b[49m\u001b[43mb\u001b[49m\u001b[43m,\u001b[49m\u001b[43m \u001b[49m\u001b[43mepsilon\u001b[49m\u001b[43m,\u001b[49m\u001b[43m \u001b[49m\u001b[43mmode\u001b[49m\u001b[38;5;241;43m=\u001b[39;49m\u001b[43mmode\u001b[49m\u001b[43m)\u001b[49m\n\u001b[1;32m     12\u001b[0m     end_time \u001b[38;5;241m=\u001b[39m time\u001b[38;5;241m.\u001b[39mtime()\n\u001b[1;32m     14\u001b[0m     acc \u001b[38;5;241m=\u001b[39m relative_err(x_opt, x_true)\n",
      "Cell \u001b[0;32mIn[2], line 37\u001b[0m, in \u001b[0;36mrandLeastSquares\u001b[0;34m(A, b, epsilon, mode)\u001b[0m\n\u001b[1;32m     34\u001b[0m     \u001b[38;5;28;01mraise\u001b[39;00m \u001b[38;5;167;01mValueError\u001b[39;00m(\u001b[38;5;124m\"\u001b[39m\u001b[38;5;124mInvalid mode. Choose \u001b[39m\u001b[38;5;124m'\u001b[39m\u001b[38;5;124mlog\u001b[39m\u001b[38;5;124m'\u001b[39m\u001b[38;5;124m or \u001b[39m\u001b[38;5;124m'\u001b[39m\u001b[38;5;124mlinear\u001b[39m\u001b[38;5;124m'\u001b[39m\u001b[38;5;124m.\u001b[39m\u001b[38;5;124m\"\u001b[39m)\n\u001b[1;32m     36\u001b[0m \u001b[38;5;66;03m# Create sampling-and-rescaling matrix S\u001b[39;00m\n\u001b[0;32m---> 37\u001b[0m S \u001b[38;5;241m=\u001b[39m \u001b[43mnp\u001b[49m\u001b[38;5;241;43m.\u001b[39;49m\u001b[43mzeros\u001b[49m\u001b[43m(\u001b[49m\u001b[43m(\u001b[49m\u001b[43mr\u001b[49m\u001b[43m,\u001b[49m\u001b[43m \u001b[49m\u001b[43mn\u001b[49m\u001b[43m)\u001b[49m\u001b[43m)\u001b[49m\n\u001b[1;32m     38\u001b[0m \u001b[38;5;28;01mfor\u001b[39;00m t \u001b[38;5;129;01min\u001b[39;00m \u001b[38;5;28mrange\u001b[39m(r):\n\u001b[1;32m     39\u001b[0m     i_t \u001b[38;5;241m=\u001b[39m np\u001b[38;5;241m.\u001b[39mrandom\u001b[38;5;241m.\u001b[39mchoice(\u001b[38;5;28mrange\u001b[39m(n))\n",
      "\u001b[0;31mMemoryError\u001b[0m: Unable to allocate 31.0 GiB for an array with shape (4063934, 1024) and data type float64"
     ]
    }
   ],
   "source": [
    "modes = [\"log\", \"linear\"]\n",
    "mode_accuracies = []\n",
    "mode_run_times = []\n",
    "\n",
    "# Measure accuracy and run-time for each mode\n",
    "for mode in modes:\n",
    "    err = []\n",
    "    times = []\n",
    "    for _ in range(num_tests):\n",
    "        start_time = time.time()\n",
    "        x_opt = randLeastSquares(A, b, epsilon, mode=mode)\n",
    "        end_time = time.time()\n",
    "        \n",
    "        acc = relative_err(x_opt, x_true)\n",
    "        err.append(acc)\n",
    "        times.append(end_time - start_time)\n",
    "    \n",
    "    mode_accuracies.append(np.mean(err))\n",
    "    mode_run_times.append(np.mean(times))\n",
    "\n",
    "# Plot Accuracy Comparison\n",
    "plt.bar(modes, mode_accuracies)\n",
    "plt.xlabel(\"Mode\")\n",
    "plt.ylabel(\"Average Relative Error\")\n",
    "plt.title(\"Accuracy: Log vs Linear Mode\")\n",
    "plt.show()\n",
    "\n",
    "# Plot Run-Time Comparison\n",
    "plt.bar(modes, mode_run_times)\n",
    "plt.xlabel(\"Mode\")\n",
    "plt.ylabel(\"Average Run-Time (seconds)\")\n",
    "plt.title(\"Run-Time: Log vs Linear Mode\")\n",
    "plt.show()\n"
   ]
  },
  {
   "cell_type": "code",
   "execution_count": null,
   "id": "0da36f77-9bd8-4841-b021-f3c05a3ac0f9",
   "metadata": {},
   "outputs": [],
   "source": [
    "# Additional Analysis"
   ]
  },
  {
   "cell_type": "code",
   "execution_count": null,
   "id": "88006146-ede3-4131-91e2-5ef56ca96a53",
   "metadata": {},
   "outputs": [
    {
     "name": "stdout",
     "output_type": "stream",
     "text": [
      "Testing mode: log\n"
     ]
    },
    {
     "name": "stderr",
     "output_type": "stream",
     "text": [
      "log Mode Progress:   0%|                                 | 0/10 [00:00<?, ?it/s]"
     ]
    }
   ],
   "source": [
    "# Parameters for testing\n",
    "num_tests = 10\n",
    "dimensions = [64, 128, 256]  # Example sizes for analysis\n",
    "epsilons = [0.01, 0.1, 1]   # Example epsilon values for analysis\n",
    "\n",
    "# Initialize results storage\n",
    "mode_accuracies = []\n",
    "mode_run_times = []\n",
    "\n",
    "# Compare log vs linear modes\n",
    "modes = [\"log\", \"linear\"]\n",
    "for mode in modes:\n",
    "    err = []\n",
    "    times = []\n",
    "    \n",
    "    print(f\"Testing mode: {mode}\")\n",
    "    \n",
    "    for _ in tqdm(range(num_tests), desc=f\"{mode} Mode Progress\"):\n",
    "        # Generate random test data\n",
    "        n, d = 128, 32  # Example size; adjust as needed\n",
    "        A = np.random.randn(n, d)\n",
    "        x_true = np.random.randn(d)\n",
    "        b = A @ x_true + 0.01 * np.random.randn(n)\n",
    "        epsilon = 0.1\n",
    "        \n",
    "        start_time = time.time()\n",
    "        x_opt = randLeastSquares(A, b, epsilon, mode=mode)\n",
    "        end_time = time.time()\n",
    "        \n",
    "        acc = np.linalg.norm(x_opt - x_true) / np.linalg.norm(x_true)  # Relative error\n",
    "        err.append(acc)\n",
    "        times.append(end_time - start_time)\n",
    "    \n",
    "    mode_accuracies.append(np.mean(err))\n",
    "    mode_run_times.append(np.mean(times))\n",
    "\n",
    "# Plot Accuracy Comparison\n",
    "plt.bar(modes, mode_accuracies)\n",
    "plt.xlabel(\"Mode\")\n",
    "plt.ylabel(\"Average Relative Error\")\n",
    "plt.title(\"Accuracy: Log vs Linear Mode\")\n",
    "plt.show()\n",
    "\n",
    "# Plot Run-Time Comparison\n",
    "plt.bar(modes, mode_run_times)\n",
    "plt.xlabel(\"Mode\")\n",
    "plt.ylabel(\"Average Run-Time (seconds)\")\n",
    "plt.title(\"Run-Time: Log vs Linear Mode\")\n",
    "plt.show()\n",
    "\n",
    "# Additional Analysis: Size vs Run-Time and Accuracy vs Epsilon\n",
    "size_run_times_log = []\n",
    "size_run_times_linear = []\n",
    "\n",
    "for size in tqdm(dimensions, desc=\"Size vs Run-Time Analysis\"):\n",
    "    A = np.random.randn(size, size // 2)\n",
    "    b = A @ np.random.randn(size // 2) + 0.01 * np.random.randn(size)\n",
    "    \n",
    "    for mode in modes:\n",
    "        start_time = time.time()\n",
    "        randLeastSquares(A, b, epsilon=0.1, mode=mode)\n",
    "        end_time = time.time()\n",
    "        \n",
    "        if mode == \"log\":\n",
    "            size_run_times_log.append(end_time - start_time)\n",
    "        else:\n",
    "            size_run_times_linear.append(end_time - start_time)\n",
    "\n",
    "plt.plot(dimensions, size_run_times_log, label=\"Log Mode\")\n",
    "plt.plot(dimensions, size_run_times_linear, label=\"Linear Mode\")\n",
    "plt.xlabel(\"Matrix Size\")\n",
    "plt.ylabel(\"Run-Time (seconds)\")\n",
    "plt.title(\"Size vs Run-Time\")\n",
    "plt.legend()\n",
    "plt.show()\n",
    "\n",
    "epsilon_accuracies_log = []\n",
    "epsilon_accuracies_linear = []\n",
    "\n",
    "for eps in tqdm(epsilons, desc=\"Accuracy vs Epsilon Analysis\"):\n",
    "    A = np.random.randn(128, 64)\n",
    "    x_true = np.random.randn(64)\n",
    "    b = A @ x_true + eps * np.random.randn(128)\n",
    "    \n",
    "    for mode in modes:\n",
    "        x_opt = randLeastSquares(A, b, epsilon=eps, mode=mode)\n",
    "        \n",
    "        acc = np.linalg.norm(x_opt - x_true) / np.linalg.norm(x_true)  # Relative error\n",
    "        \n",
    "        if mode == \"log\":\n",
    "            epsilon_accuracies_log.append(acc)\n",
    "        else:\n",
    "            epsilon_accuracies_linear.append(acc)\n",
    "\n",
    "plt.plot(epsilons, epsilon_accuracies_log, label=\"Log Mode\")\n",
    "plt.plot(epsilons, epsilon_accuracies_linear, label=\"Linear Mode\")\n",
    "plt.xlabel(\"Epsilon\")\n",
    "plt.ylabel(\"Relative Error\")\n",
    "plt.title(\"Accuracy vs Epsilon\")\n",
    "plt.legend()\n",
    "plt.show()"
   ]
  },
  {
   "cell_type": "code",
   "execution_count": null,
   "id": "11d690a3-9c27-491e-94dd-7e83a429e344",
   "metadata": {},
   "outputs": [],
   "source": []
  }
 ],
 "metadata": {
  "kernelspec": {
   "display_name": "Python 3 (ipykernel)",
   "language": "python",
   "name": "python3"
  },
  "language_info": {
   "codemirror_mode": {
    "name": "ipython",
    "version": 3
   },
   "file_extension": ".py",
   "mimetype": "text/x-python",
   "name": "python",
   "nbconvert_exporter": "python",
   "pygments_lexer": "ipython3",
   "version": "3.13.0"
  }
 },
 "nbformat": 4,
 "nbformat_minor": 5
}
